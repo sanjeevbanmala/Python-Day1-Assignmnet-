{
 "cells": [
  {
   "cell_type": "markdown",
   "id": "a07b4967",
   "metadata": {},
   "source": [
    "# Python Day1 Assignment:"
   ]
  },
  {
   "cell_type": "markdown",
   "id": "95015d95",
   "metadata": {},
   "source": [
    "### 1. Write a Python program to get the smallest and largest number from a list of integers.\n"
   ]
  },
  {
   "cell_type": "code",
   "execution_count": 18,
   "id": "ab3201e4",
   "metadata": {},
   "outputs": [
    {
     "name": "stdout",
     "output_type": "stream",
     "text": [
      "The largest number is : 44\n",
      "The smallest number is: 10\n"
     ]
    }
   ],
   "source": [
    "my_list = [10, 20, 33, 44] # creating a list of integers\n",
    "large = str(max(my_list)) # typecasting largest number to string for print\n",
    "small = str(min(my_list)) # typecasting smallest number to string for print\n",
    "print(\"The largest number is : \" + large +  \"\\nThe smallest number is: \"+  small)\n",
    "# We can take input from the user but here I have given the values for the list myself"
   ]
  },
  {
   "cell_type": "markdown",
   "id": "e6053084",
   "metadata": {},
   "source": [
    "### 2. Write a Python program to get the following pattern using a nested loop."
   ]
  },
  {
   "cell_type": "code",
   "execution_count": 34,
   "id": "4d449dd8",
   "metadata": {},
   "outputs": [
    {
     "name": "stdout",
     "output_type": "stream",
     "text": [
      "1\n",
      "22\n",
      "333\n",
      "4444\n",
      "55555\n",
      "666666\n",
      "7777777\n",
      "88888888\n",
      "999999999\n"
     ]
    }
   ],
   "source": [
    "n = 9\n",
    "\n",
    "for i in range(1,n+1): # first loop\n",
    "    for j in range(1, i+1): # second loop\n",
    "        print(i, end=\"\")\n",
    "    print()"
   ]
  },
  {
   "cell_type": "code",
   "execution_count": 35,
   "id": "4d53802b",
   "metadata": {},
   "outputs": [
    {
     "name": "stdout",
     "output_type": "stream",
     "text": [
      "1\n",
      "2\n",
      "3\n",
      "4\n",
      "5\n",
      "6\n",
      "7\n",
      "8\n",
      "9\n"
     ]
    }
   ],
   "source": [
    "for x in range (1,10):\n",
    "    print(x)"
   ]
  },
  {
   "cell_type": "code",
   "execution_count": 32,
   "id": "6c9c05bf",
   "metadata": {},
   "outputs": [
    {
     "name": "stdout",
     "output_type": "stream",
     "text": [
      "\n"
     ]
    }
   ],
   "source": [
    "print()"
   ]
  },
  {
   "cell_type": "code",
   "execution_count": null,
   "id": "b98411bd",
   "metadata": {},
   "outputs": [],
   "source": []
  }
 ],
 "metadata": {
  "kernelspec": {
   "display_name": "Python 3",
   "language": "python",
   "name": "python3"
  },
  "language_info": {
   "codemirror_mode": {
    "name": "ipython",
    "version": 3
   },
   "file_extension": ".py",
   "mimetype": "text/x-python",
   "name": "python",
   "nbconvert_exporter": "python",
   "pygments_lexer": "ipython3",
   "version": "3.8.8"
  }
 },
 "nbformat": 4,
 "nbformat_minor": 5
}
