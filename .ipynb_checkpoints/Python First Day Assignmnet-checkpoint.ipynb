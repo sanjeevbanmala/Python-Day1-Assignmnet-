{
 "cells": [
  {
   "cell_type": "markdown",
   "id": "a07b4967",
   "metadata": {},
   "source": [
    "# Python Day1 Assignment:"
   ]
  },
  {
   "cell_type": "markdown",
   "id": "95015d95",
   "metadata": {},
   "source": [
    "### 1. Write a Python program to get the smallest and largest number from a list of integers.\n"
   ]
  },
  {
   "cell_type": "code",
   "execution_count": 18,
   "id": "ab3201e4",
   "metadata": {},
   "outputs": [
    {
     "name": "stdout",
     "output_type": "stream",
     "text": [
      "The largest number is : 44\n",
      "The smallest number is: 10\n"
     ]
    }
   ],
   "source": [
    "my_list = [10, 20, 33, 44] # creating a list of integers\n",
    "large = str(max(my_list)) # typecasting largest number to string for print\n",
    "small = str(min(my_list)) # typecasting smallest number to string for print\n",
    "print(\"The largest number is : \" + large +  \"\\nThe smallest number is: \"+  small)\n",
    "# We can take input from the user but here I have given the values for the list myself"
   ]
  },
  {
   "cell_type": "markdown",
   "id": "e6053084",
   "metadata": {},
   "source": [
    "### 2. Write a Python program to get the following pattern using a nested loop."
   ]
  },
  {
   "cell_type": "code",
   "execution_count": 3,
   "id": "4d449dd8",
   "metadata": {},
   "outputs": [
    {
     "name": "stdout",
     "output_type": "stream",
     "text": [
      "1\n",
      "22\n",
      "333\n",
      "4444\n",
      "55555\n",
      "666666\n",
      "7777777\n",
      "88888888\n",
      "999999999\n"
     ]
    }
   ],
   "source": [
    "for i in range(1,10): # first loop\n",
    "    for j in range(1, i+1): # second loop\n",
    "        print(i, end=\"\")\n",
    "    print()"
   ]
  },
  {
   "cell_type": "markdown",
   "id": "80c8ad79",
   "metadata": {},
   "source": [
    "### 3. You are given a string and your task is to swap cases. In other words, convert all lowercase letters to uppercase letters and vice versa.\n"
   ]
  },
  {
   "cell_type": "code",
   "execution_count": 6,
   "id": "6c9c05bf",
   "metadata": {},
   "outputs": [
    {
     "name": "stdout",
     "output_type": "stream",
     "text": [
      "Pythonist 2\n",
      "pYTHONIST 2\n"
     ]
    }
   ],
   "source": [
    "# The following function takes input from user and swap cases \n",
    "def swap(i): # defining the function\n",
    "    \n",
    "    Output = '';\n",
    "    for char in i: # looping each character in string\n",
    "        if(char.isupper()==True): # checking if their is upper case\n",
    "            Output += (char.lower()); # replacing upper with lower case\n",
    "        elif(char.islower()==True): # checking if their is lower case\n",
    "            Output += (char.upper());# replacing lower with upper case\n",
    "        else:\n",
    "            Output += char;\n",
    "    return Output;\n",
    "    # sWAP cASE in Python\n",
    "\n",
    "if __name__ == '__main__':\n",
    "    i = input()\n",
    "    result = swap(i)\n",
    "    print(result)"
   ]
  },
  {
   "cell_type": "markdown",
   "id": "6d0451b1",
   "metadata": {},
   "source": [
    "### 4. Given a sentence use string split and join to get the result as shown below:\n"
   ]
  },
  {
   "cell_type": "code",
   "execution_count": 13,
   "id": "47a09636",
   "metadata": {},
   "outputs": [
    {
     "name": "stdout",
     "output_type": "stream",
     "text": [
      "this-is-a-string\n"
     ]
    }
   ],
   "source": [
    "x = \"this is a string\" # sample string\n",
    "x = x.split(\" \") # splitting the string with blankspace\n",
    "x= \"-\".join(x) # joining the splitted string with dash(-)\n",
    "print(x)"
   ]
  },
  {
   "cell_type": "markdown",
   "id": "5f60e5f4",
   "metadata": {},
   "source": [
    "### 5. Write a Python program to find the difference between consecutive numbers in a given list."
   ]
  },
  {
   "cell_type": "code",
   "execution_count": 30,
   "id": "9b80d5fe",
   "metadata": {},
   "outputs": [
    {
     "name": "stdout",
     "output_type": "stream",
     "text": [
      "Original list:\n",
      "[4, 5, 8, 9, 6, 10]\n",
      "Difference between consecutive numbers of the given list:\n",
      "[1, 3, 1, -3, 4]\n"
     ]
    }
   ],
   "source": [
    "def difference(list): # defining the function\n",
    "    result = [b-a for a, b in zip(list[:-1], list[1:])] # sorting the list and creating zipped to subtract\n",
    "    return result\n",
    "\n",
    "list1 = [4,5,8,9,6,10]\n",
    "print(\"Original list:\")\n",
    "print(list1)\n",
    "print(\"Difference between consecutive numbers of the given list:\") \n",
    "print(difference(list1))\n"
   ]
  },
  {
   "cell_type": "markdown",
   "id": "95c311f3",
   "metadata": {},
   "source": [
    "### 6. Write a Python program to get the frequency of the elements in a given list of lists."
   ]
  },
  {
   "cell_type": "code",
   "execution_count": 32,
   "id": "25f58a8f",
   "metadata": {},
   "outputs": [
    {
     "name": "stdout",
     "output_type": "stream",
     "text": [
      "Original list of lists:\n",
      "[[1, 2, 3, 2], [4, 5, 6, 2], [7, 8, 9, 5]]\n",
      "\n",
      "Frequency of the elements in the said list of lists:\n",
      "{1: 1, 2: 3, 3: 1, 4: 1, 5: 2, 6: 1, 7: 1, 8: 1, 9: 1}\n"
     ]
    }
   ],
   "source": [
    "def count_elements_lists(nums):\n",
    "    nums = [item for sublist in nums for item in sublist] # looping through sublist within a list\n",
    "    dic_data = {} # defining dictionary\n",
    "    for num in nums:\n",
    "        if num in dic_data.keys(): # checking if the number is in key\n",
    "            dic_data[num] += 1 # adding 1 if the number exists\n",
    "        else:\n",
    "            key = num \n",
    "            value = 1\n",
    "            dic_data[key] = value\n",
    "    return dic_data\n",
    "\n",
    "nums = [\n",
    "        [1,2,3,2],\n",
    "        [4,5,6,2],\n",
    "        [7,8,9,5],\n",
    "       ]    \n",
    "print(\"Original list of lists:\")\n",
    "print(nums)\n",
    "print(\"\\nFrequency of the elements in the said list of lists:\")\n",
    "print(count_elements_lists(nums))"
   ]
  },
  {
   "cell_type": "markdown",
   "id": "e2b93509",
   "metadata": {},
   "source": [
    "### 7. Write a Python program to combine two lists into a dictionary, where the elements of the first one serve as the keys and the elements of the second one serve as the values. The values of the first list need to be unique and hashable.\n"
   ]
  },
  {
   "cell_type": "code",
   "execution_count": 42,
   "id": "e248b88c",
   "metadata": {},
   "outputs": [
    {
     "name": "stdout",
     "output_type": "stream",
     "text": [
      "Original key list is : ['a', 'b', 'c', 'd', 'e', 'f']\n",
      "Original value list is : [1, 2, 3, 4, 5]\n",
      "The dictionary is {'a': 1, 'b': 2, 'c': 3, 'd': 4, 'e': 5}\n"
     ]
    }
   ],
   "source": [
    "l1 =['a','b','c','d','e', 'f']\n",
    "l2 = [1,2,3,4,5]\n",
    "  \n",
    "# Printing original keys-value lists\n",
    "print (\"Original key list is : \" + str(l1))\n",
    "print (\"Original value list is : \" + str(l2))\n",
    "  \n",
    "# to convert lists to dictionary\n",
    "res = {}\n",
    "for key in l1: \n",
    "    for value in l2:\n",
    "        res[key] = value\n",
    "        l2.remove(value)\n",
    "        break  \n",
    "print(\"The dictionary is \" + str(res))"
   ]
  },
  {
   "cell_type": "markdown",
   "id": "daa94e7d",
   "metadata": {},
   "source": [
    "### 8. Write a Python program to find the key of the maximum value in a dictionary"
   ]
  },
  {
   "cell_type": "code",
   "execution_count": 64,
   "id": "810372cf",
   "metadata": {},
   "outputs": [
    {
     "name": "stdout",
     "output_type": "stream",
     "text": [
      "The maximum and minimum value of the said dictionary: ('Roxanne', 'Theodore')\n"
     ]
    }
   ],
   "source": [
    "# initializing dictionary\n",
    "dict= {'Theodore': 19, 'Roxanne': 22, 'Mathew': 21, 'Betty': 20}\n",
    "keys = list(dict.keys()) #making the keys only into separate list\n",
    "values=list(dict.values()) # making the values only into separate list\n",
    "\n",
    "maximum = values.index(max(values)) # finding the index of maximum value\n",
    "minimum = values.index(min(values)) # finding the index of minimum value\n",
    "result = (keys[maximum], keys[minimum])\n",
    "print(\"The maximum and minimum value of the said dictionary: \" + str(result) )\n"
   ]
  },
  {
   "cell_type": "markdown",
   "id": "2d972ce5",
   "metadata": {},
   "source": [
    "### 9. Write a Python program to construct the following pattern, using a nested for loop."
   ]
  },
  {
   "cell_type": "code",
   "execution_count": 65,
   "id": "810fb393",
   "metadata": {},
   "outputs": [
    {
     "name": "stdout",
     "output_type": "stream",
     "text": [
      "\n",
      "* \n",
      "* * \n",
      "* * * \n",
      "* * * * \n",
      "* * * * * \n",
      "* * * * \n",
      "* * * \n",
      "* * \n",
      "* \n"
     ]
    }
   ],
   "source": [
    "n=5;\n",
    "for i in range(n):\n",
    "    for j in range(i):\n",
    "        print ('* ', end=\"\")\n",
    "    print('')\n",
    "\n",
    "for i in range(n,0,-1):\n",
    "    for j in range(i):\n",
    "        print('* ', end=\"\")\n",
    "    print('')"
   ]
  },
  {
   "cell_type": "markdown",
   "id": "b0bfffed",
   "metadata": {},
   "source": [
    "### 10. Write a Python program that prints all the numbers from 0 to 20 except the numbers in the given list [ 5, 6, 12, 15].\n"
   ]
  },
  {
   "cell_type": "code",
   "execution_count": 74,
   "id": "96f65812",
   "metadata": {},
   "outputs": [
    {
     "name": "stdout",
     "output_type": "stream",
     "text": [
      "0 1 2 3 4 7 8 9 10 11 13 14 16 17 18 19 20 \n",
      "\n"
     ]
    }
   ],
   "source": [
    "l=[5,6,12,15]\n",
    "for x in range(21):\n",
    "    if (x in l):\n",
    "        continue\n",
    "    print(x,end=' ')\n",
    "print(\"\\n\")"
   ]
  },
  {
   "cell_type": "markdown",
   "id": "a92bafac",
   "metadata": {},
   "source": [
    "### 11. Write a Program to count the number of vowels in a given string."
   ]
  },
  {
   "cell_type": "code",
   "execution_count": 90,
   "id": "63f5c940",
   "metadata": {},
   "outputs": [
    {
     "name": "stdout",
     "output_type": "stream",
     "text": [
      "The total number of vowels is : 3\n"
     ]
    }
   ],
   "source": [
    "v= ['a','e','i','o','u']\n",
    "letter = 'applee'\n",
    "count = 0\n",
    "for n in letter:\n",
    "    if(n in v):\n",
    "        count += 1\n",
    "print (\"The total number of vowels is : \"+ str(count))\n"
   ]
  },
  {
   "cell_type": "markdown",
   "id": "b8b41457",
   "metadata": {},
   "source": [
    "### 12. Write a Python program to remove consecutive duplicates from a list.\n"
   ]
  },
  {
   "cell_type": "code",
   "execution_count": 93,
   "id": "8aff1751",
   "metadata": {},
   "outputs": [
    {
     "name": "stdout",
     "output_type": "stream",
     "text": [
      "The original list is : <class 'list'>\n",
      "The list after removing consecutive duplicates : [0, 1, 2, 3, 4, 5, 6, 7, 8, 9, 4]\n"
     ]
    }
   ],
   "source": [
    "from itertools import groupby #importing groupby only from itertools\n",
    "  \n",
    "ist =  [0, 0, 1, 2, 3, 4, 4, 5, 6, 6, 6, 7, 8, 9, 4, 4]\n",
    "  \n",
    "# printing original list\n",
    "print (\"The original list is : \" + str(list))\n",
    "  \n",
    "\n",
    "result = [i[0] for i in groupby(test_list)]\n",
    "  \n",
    "# printing result \n",
    "print (\"The list after removing consecutive duplicates : \" +  str(result))"
   ]
  },
  {
   "cell_type": "markdown",
   "id": "b748cf9c",
   "metadata": {},
   "source": [
    "### 13. Write a Program to read a sample text file and count the words having length greater than or equal to 5.\n"
   ]
  },
  {
   "cell_type": "code",
   "execution_count": 99,
   "id": "2609218e",
   "metadata": {},
   "outputs": [
    {
     "name": "stdout",
     "output_type": "stream",
     "text": [
      "Number of words present in given file: 1\n"
     ]
    }
   ],
   "source": [
    "count = 0;  \n",
    "   \n",
    "#Opens a file in read mode  \n",
    "file = open(\"data.txt\", \"r\")  \n",
    "      \n",
    "#Gets each line till end of file is reached  \n",
    "for line in file:  \n",
    "    #Splits each line into words  \n",
    "    words = line.split(\" \");  \n",
    "    #Counts each word greater tha or equal to 5  \n",
    "    for word in words:\n",
    "        if(len(word)>=5):\n",
    "            count +=1\n",
    "   \n",
    "print(\"Number of words present in given file: \" + str(count)); "
   ]
  },
  {
   "cell_type": "markdown",
   "id": "22ac90ad",
   "metadata": {},
   "source": [
    "### 14. Write a program to read a sample text file and Capitalize the each word and append it to the same file."
   ]
  },
  {
   "cell_type": "code",
   "execution_count": 116,
   "id": "90968fd2",
   "metadata": {},
   "outputs": [
    {
     "name": "stdout",
     "output_type": "stream",
     "text": [
      "['SOME', 'HELLO', '']\n"
     ]
    }
   ],
   "source": [
    "def capitalize_append():\n",
    "    lstWords = [];  \n",
    "    file = open(\"data.txt\", \"r+\")  \n",
    "    for line in file:  \n",
    "        words = line.split(\" \");  \n",
    "        for word in words:\n",
    "            lstWords.append(word.upper())\n",
    "    print(lstWords)\n",
    "    file.close();\n",
    "    \n",
    "    file = open(\"data.txt\", \"a+\")  \n",
    "    file.write(' '.join(lstWords))\n",
    "    file.close();\n",
    "capitalize_append()"
   ]
  },
  {
   "cell_type": "markdown",
   "id": "7ca229f5",
   "metadata": {},
   "source": [
    "### 15. Write a function in Python that takes a normal .txt file path as an input and counts the word in a given list [ the, these, that, and]  and displays it."
   ]
  },
  {
   "cell_type": "code",
   "execution_count": 130,
   "id": "f6be391d",
   "metadata": {},
   "outputs": [
    {
     "name": "stdout",
     "output_type": "stream",
     "text": [
      "the : 1\n",
      "these : 1\n",
      "that : 1\n",
      "and : 1\n"
     ]
    }
   ],
   "source": [
    "# Open the file in read mode\n",
    "text = open(\"data.txt\", \"r\")\n",
    "  \n",
    "# Create an empty dictionary\n",
    "d = {'the': 0,'these': 0, 'that' : 0, 'and' : 0}\n",
    "  \n",
    "# Loop through each line of the file\n",
    "for line in text:\n",
    "    # Remove the leading spaces and newline character\n",
    "    line = line.strip()\n",
    "  \n",
    "    # Convert the characters in line to \n",
    "    # lowercase to avoid case mismatch\n",
    "    line = line.lower()\n",
    "  \n",
    "    # Split the line into words\n",
    "    words = line.split(\" \")\n",
    "  \n",
    "    # Iterate over each word in line\n",
    "    for word in words:\n",
    "        # Check if the word is already in dictionary\n",
    "        if word in d:\n",
    "            # Increment count of word by 1\n",
    "            d[word] = d[word] + 1\n",
    "        else:\n",
    "            # Add the word to dictionary with count 1\n",
    "            continue\n",
    "  \n",
    "# Print the contents of dictionary\n",
    "for key in list(d.keys()):\n",
    "    print(key, \":\", d[key])"
   ]
  },
  {
   "cell_type": "markdown",
   "id": "e50ca752",
   "metadata": {},
   "source": [
    "### 16. Map, Filter, Reduce Question:  Given a list of strings fruits as shown below: fruits = [\"Apple\", \"Banana\", \"Pear\", \"Apricot\", \"Orange\"].\n"
   ]
  },
  {
   "cell_type": "markdown",
   "id": "3d523f43",
   "metadata": {},
   "source": [
    "a. Change each of the words to uppercase using map function\n"
   ]
  },
  {
   "cell_type": "markdown",
   "id": "8396bed4",
   "metadata": {},
   "source": [
    "b. Filter out the words starting with ‘A’ using filter functionality"
   ]
  },
  {
   "cell_type": "markdown",
   "id": "45ad3de2",
   "metadata": {},
   "source": [
    "c. Concat all words using reduce "
   ]
  },
  {
   "cell_type": "code",
   "execution_count": 142,
   "id": "a31af0f7",
   "metadata": {
    "scrolled": true
   },
   "outputs": [
    {
     "name": "stdout",
     "output_type": "stream",
     "text": [
      "The upper case list is: ['APPLE', 'BANANA', 'PEAR', 'APRICOT', 'ORANGE']\n",
      "The list without A word stating is: ['Banana', 'Pear', 'Orange']\n",
      "The concanetate output is: AppleBananaPearApricotOrange\n"
     ]
    }
   ],
   "source": [
    "# importing reduce from functools\n",
    "from functools import reduce \n",
    "\n",
    "# initializing list\n",
    "fruits = [\"Apple\", \"Banana\", \"Pear\", \"Apricot\", \"Orange\"]\n",
    "\n",
    "# changing each words to uppercase using map\n",
    "upper = map(lambda x: x.upper(), fruits)\n",
    "print(\"The upper case list is: \" + str(list(upper)))\n",
    "\n",
    "#Filtering out the words starting with ‘A’ using filter functionality\n",
    "eliminateA = filter(lambda x: x[0]!=\"A\", fruits)\n",
    "print(\"The list without A word stating is: \" + str(list(eliminateA)))\n",
    "\n",
    "# concatinating all words using reduce\n",
    "concat = reduce(lambda x,y :x+y, fruits)\n",
    "print(\"The concanetate output is: \" +concat)"
   ]
  },
  {
   "cell_type": "code",
   "execution_count": null,
   "id": "bd0d0f1b",
   "metadata": {},
   "outputs": [],
   "source": []
  }
 ],
 "metadata": {
  "kernelspec": {
   "display_name": "Python 3",
   "language": "python",
   "name": "python3"
  },
  "language_info": {
   "codemirror_mode": {
    "name": "ipython",
    "version": 3
   },
   "file_extension": ".py",
   "mimetype": "text/x-python",
   "name": "python",
   "nbconvert_exporter": "python",
   "pygments_lexer": "ipython3",
   "version": "3.8.8"
  }
 },
 "nbformat": 4,
 "nbformat_minor": 5
}
